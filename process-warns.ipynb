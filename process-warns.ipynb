{
 "cells": [
  {
   "cell_type": "code",
   "execution_count": 1,
   "metadata": {},
   "outputs": [],
   "source": [
    "import pandas as pd\n",
    "import numpy as np\n",
    "import geopandas as gpd\n",
    "import fiona"
   ]
  },
  {
   "cell_type": "code",
   "execution_count": 14,
   "metadata": {},
   "outputs": [],
   "source": [
    "# // get geography files\n",
    "warnCounties = pd.read_excel('data/warnLogs_200720.xlsx',\n",
    "                             sheet_name=\"warnCounties\",\n",
    "                             converters={'FIPS':str})\n",
    "\n",
    "warnCities= pd.read_excel('data/warnLogs_200720.xlsx',\n",
    "                          sheet_name=\"warnCities\",\n",
    "                          usecols=\"A,B,E,F\")\n",
    "\n",
    "msa = pd.read_excel('../data/geographies/cbsa.xlsx',\n",
    "                    sheet_name=\"cbsa\",\n",
    "                    usecols=\"A,D,M\",\n",
    "                    converters={'FIPS_COUNTY':str,\n",
    "                                'CBSA Code':str})\n",
    "\n",
    "msa.rename(columns={'CBSA Code':'CBSA','CBSA Title':'MSA','FIPS_COUNTY':'FIPS'}, inplace=True)\n",
    "\n",
    "zipWalk = pd.read_excel('../data/spatial/zips/Zip_to_zcta_crosswalk_2020.xlsx',\n",
    "                        sheet_name='ziptozcta2019',\n",
    "                        usecols='A,E',\n",
    "                        converters={'ZIP_CODE':str,\n",
    "                                    'ZCTA':str})\n",
    "\n",
    "zips = gpd.read_file('./application/data/gaZips.geojson')"
   ]
  },
  {
   "cell_type": "code",
   "execution_count": 3,
   "metadata": {},
   "outputs": [],
   "source": [
    "data = pd.read_excel('data/warnLogs_200720.xlsx',\n",
    "                     sheet_name=\"warnLogs\",\n",
    "                     usecols=\"A:F,H\",\n",
    "                     converters={'ZIP':str})\n",
    "\n",
    "data['Companies'] = 1\n",
    "\n",
    "# trim all columns\n",
    "data['Company name'] = data['Company name'].str.strip()\n",
    "data['City'] = data['City'].str.strip()\n",
    "data['ZIP'] = data['ZIP'].str.strip()\n",
    "data['County'] = data['County'].str.strip()\n",
    "\n",
    "data.rename(columns={'County':'warnCounty',\n",
    "                     'City':'warnCity',\n",
    "                     'Company name':'Company',\n",
    "                     'Est. Impact':'Employees'}, inplace=True)"
   ]
  },
  {
   "cell_type": "code",
   "execution_count": 4,
   "metadata": {},
   "outputs": [],
   "source": [
    "data = pd.merge(data, warnCounties, how='left', on='warnCounty')\n",
    "data = pd.merge(data, warnCities, how='left', on='warnCity')\n",
    "data = pd.merge(data, msa, how='left', on='FIPS')"
   ]
  },
  {
   "cell_type": "code",
   "execution_count": 5,
   "metadata": {},
   "outputs": [],
   "source": [
    "data = pd.merge(data, zipWalk, how='left', left_on='ZIP', right_on='ZIP_CODE')"
   ]
  },
  {
   "cell_type": "code",
   "execution_count": 6,
   "metadata": {},
   "outputs": [],
   "source": [
    "data = data[['Date','Company','Companies','Employees','City',\n",
    "             'ZIP','County','FIPS','MSA','CBSA','ZCTA']]"
   ]
  },
  {
   "cell_type": "code",
   "execution_count": 7,
   "metadata": {},
   "outputs": [],
   "source": [
    "data.sort_values('Date', inplace=True)"
   ]
  },
  {
   "cell_type": "code",
   "execution_count": 8,
   "metadata": {},
   "outputs": [],
   "source": [
    "data.reset_index(drop=True, inplace=True)"
   ]
  },
  {
   "cell_type": "code",
   "execution_count": 9,
   "metadata": {},
   "outputs": [],
   "source": [
    "data['Month'] = data['Date'].dt.strftime('%b')\n",
    "data['Year'] = data['Date'].dt.strftime('%Y')"
   ]
  },
  {
   "cell_type": "code",
   "execution_count": 10,
   "metadata": {},
   "outputs": [],
   "source": [
    "data['Date'] = pd.to_datetime(data['Date'], format='%Y-%m-%d').dt.strftime('%m-%d-%Y')"
   ]
  },
  {
   "cell_type": "code",
   "execution_count": 11,
   "metadata": {},
   "outputs": [],
   "source": [
    "counties = gpd.read_file('../data/spatial/ga-custom/ga-counties.geojson')\n",
    "counties = counties[['GEOID','CDRegion']]"
   ]
  },
  {
   "cell_type": "code",
   "execution_count": 15,
   "metadata": {},
   "outputs": [],
   "source": [
    "zips = zips[['ZCTA','CDRegion']]"
   ]
  },
  {
   "cell_type": "code",
   "execution_count": 17,
   "metadata": {},
   "outputs": [],
   "source": [
    "zips['ZCTA'] = zips['ZCTA'].astype(str)\n",
    "data['ZCTA'] = data['ZCTA'].astype(str)"
   ]
  },
  {
   "cell_type": "code",
   "execution_count": 18,
   "metadata": {},
   "outputs": [
    {
     "data": {
      "text/plain": [
       "(1836, 13)"
      ]
     },
     "execution_count": 18,
     "metadata": {},
     "output_type": "execute_result"
    }
   ],
   "source": [
    "data.shape"
   ]
  },
  {
   "cell_type": "code",
   "execution_count": 19,
   "metadata": {},
   "outputs": [],
   "source": [
    "data = pd.merge(data,zips, how='left', on='ZCTA')"
   ]
  },
  {
   "cell_type": "code",
   "execution_count": 20,
   "metadata": {},
   "outputs": [
    {
     "data": {
      "text/plain": [
       "(1836, 14)"
      ]
     },
     "execution_count": 20,
     "metadata": {},
     "output_type": "execute_result"
    }
   ],
   "source": [
    "data.shape"
   ]
  },
  {
   "cell_type": "code",
   "execution_count": 21,
   "metadata": {},
   "outputs": [],
   "source": [
    "data = data[['Date','Month','Year',\n",
    "             'Company','City','ZIP','County','FIPS','MSA','CBSA','ZCTA','CDRegion',\n",
    "             'Companies','Employees']]"
   ]
  },
  {
   "cell_type": "code",
   "execution_count": 61,
   "metadata": {},
   "outputs": [],
   "source": [
    "# write files\n",
    "data.to_csv('application/data/warnLogs.csv', index=False)\n",
    "# zctaRoll.to_csv('application/data/zctaRoll.csv', index=False)\n",
    "# cityRoll.to_csv('application/data/cityRoll.csv', index=False)"
   ]
  },
  {
   "cell_type": "code",
   "execution_count": 24,
   "metadata": {},
   "outputs": [],
   "source": [
    "dataJson = data.copy()"
   ]
  },
  {
   "cell_type": "code",
   "execution_count": 25,
   "metadata": {},
   "outputs": [],
   "source": [
    "zctaRoll = data.groupby(['ZCTA','Year']).agg({'Employees':sum}).reset_index()\n",
    "zctaRoll = zctaRoll.pivot_table('Employees', ['ZCTA'], 'Year')\n",
    "zctaRoll.reset_index( drop=False, inplace=True )"
   ]
  },
  {
   "cell_type": "code",
   "execution_count": 26,
   "metadata": {},
   "outputs": [],
   "source": [
    "columns = ['ZCTA','Employees2007','Employees2008','Employees2009','Employees2010','Employees2011',\n",
    "           'Employees2012','Employees2013','Employees2014','Employees2015','Employees2016','Employees2017',\n",
    "           'Employees2018','Employees2019','Employees2020']\n",
    "zctaRoll.columns = columns\n",
    "numCols = ['Employees2007','Employees2008','Employees2009','Employees2010','Employees2011',\n",
    "           'Employees2012','Employees2013','Employees2014','Employees2015','Employees2016','Employees2017',\n",
    "           'Employees2018','Employees2019','Employees2020']\n",
    "zctaRoll.fillna(0, inplace=True)"
   ]
  },
  {
   "cell_type": "code",
   "execution_count": 27,
   "metadata": {},
   "outputs": [],
   "source": [
    "for col in numCols:\n",
    "    zctaRoll[col] = zctaRoll[col].astype(int)"
   ]
  },
  {
   "cell_type": "code",
   "execution_count": 28,
   "metadata": {},
   "outputs": [],
   "source": [
    "gaZips = gpd.read_file('../data/spatial/ga-custom/gaZips.geojson')"
   ]
  },
  {
   "cell_type": "code",
   "execution_count": 29,
   "metadata": {},
   "outputs": [],
   "source": [
    "gaZips['ZCTA'] = gaZips['ZCTA'].astype(str)\n",
    "zctaRoll['ZCTA'] = zctaRoll['ZCTA'].astype(str)"
   ]
  },
  {
   "cell_type": "code",
   "execution_count": 30,
   "metadata": {},
   "outputs": [],
   "source": [
    "gaZips = pd.merge(gaZips, zctaRoll, how='left', on='ZCTA')"
   ]
  },
  {
   "cell_type": "code",
   "execution_count": 31,
   "metadata": {},
   "outputs": [],
   "source": [
    "gaZips.fillna(0, inplace=True)\n",
    "for col in numCols:\n",
    "    gaZips[col] = gaZips[col].astype(int)"
   ]
  },
  {
   "cell_type": "code",
   "execution_count": 32,
   "metadata": {},
   "outputs": [],
   "source": [
    "gaZips = gaZips[['ZCTA','CDRegion','MSA','County',\n",
    "                 'Employees2007','Employees2008','Employees2009','Employees2010','Employees2011',\n",
    "                 'Employees2012','Employees2013','Employees2014','Employees2015','Employees2016',\n",
    "                 'Employees2017','Employees2018','Employees2019','Employees2020','geometry']]"
   ]
  },
  {
   "cell_type": "code",
   "execution_count": 59,
   "metadata": {},
   "outputs": [
    {
     "data": {
      "text/html": [
       "<div>\n",
       "<style scoped>\n",
       "    .dataframe tbody tr th:only-of-type {\n",
       "        vertical-align: middle;\n",
       "    }\n",
       "\n",
       "    .dataframe tbody tr th {\n",
       "        vertical-align: top;\n",
       "    }\n",
       "\n",
       "    .dataframe thead th {\n",
       "        text-align: right;\n",
       "    }\n",
       "</style>\n",
       "<table border=\"1\" class=\"dataframe\">\n",
       "  <thead>\n",
       "    <tr style=\"text-align: right;\">\n",
       "      <th></th>\n",
       "      <th>ZCTA</th>\n",
       "      <th>CDRegion</th>\n",
       "      <th>MSA</th>\n",
       "      <th>County</th>\n",
       "      <th>Employees2007</th>\n",
       "      <th>Employees2008</th>\n",
       "      <th>Employees2009</th>\n",
       "      <th>Employees2010</th>\n",
       "      <th>Employees2011</th>\n",
       "      <th>Employees2012</th>\n",
       "      <th>Employees2013</th>\n",
       "      <th>Employees2014</th>\n",
       "      <th>Employees2015</th>\n",
       "      <th>Employees2016</th>\n",
       "      <th>Employees2017</th>\n",
       "      <th>Employees2018</th>\n",
       "      <th>Employees2019</th>\n",
       "      <th>Employees2020</th>\n",
       "      <th>geometry</th>\n",
       "    </tr>\n",
       "  </thead>\n",
       "  <tbody>\n",
       "    <tr>\n",
       "      <th>0</th>\n",
       "      <td>37350</td>\n",
       "      <td>Northwest</td>\n",
       "      <td>Chattanooga, TN-GA</td>\n",
       "      <td>Walker County</td>\n",
       "      <td>0</td>\n",
       "      <td>0</td>\n",
       "      <td>0</td>\n",
       "      <td>0</td>\n",
       "      <td>0</td>\n",
       "      <td>0</td>\n",
       "      <td>0</td>\n",
       "      <td>0</td>\n",
       "      <td>0</td>\n",
       "      <td>0</td>\n",
       "      <td>0</td>\n",
       "      <td>0</td>\n",
       "      <td>0</td>\n",
       "      <td>0</td>\n",
       "      <td>POLYGON ((-85.34438 34.98373, -85.35288 34.983...</td>\n",
       "    </tr>\n",
       "    <tr>\n",
       "      <th>1</th>\n",
       "      <td>37362</td>\n",
       "      <td>Northwest</td>\n",
       "      <td>Dalton, GA</td>\n",
       "      <td>Murray County</td>\n",
       "      <td>0</td>\n",
       "      <td>0</td>\n",
       "      <td>0</td>\n",
       "      <td>0</td>\n",
       "      <td>0</td>\n",
       "      <td>0</td>\n",
       "      <td>0</td>\n",
       "      <td>0</td>\n",
       "      <td>0</td>\n",
       "      <td>0</td>\n",
       "      <td>0</td>\n",
       "      <td>0</td>\n",
       "      <td>0</td>\n",
       "      <td>0</td>\n",
       "      <td>POLYGON ((-84.73143 34.98809, -84.74509 34.988...</td>\n",
       "    </tr>\n",
       "    <tr>\n",
       "      <th>2</th>\n",
       "      <td>37363</td>\n",
       "      <td>Northeast</td>\n",
       "      <td>Chattanooga, TN-GA</td>\n",
       "      <td>Catoosa County</td>\n",
       "      <td>0</td>\n",
       "      <td>0</td>\n",
       "      <td>0</td>\n",
       "      <td>0</td>\n",
       "      <td>0</td>\n",
       "      <td>0</td>\n",
       "      <td>0</td>\n",
       "      <td>0</td>\n",
       "      <td>0</td>\n",
       "      <td>0</td>\n",
       "      <td>0</td>\n",
       "      <td>0</td>\n",
       "      <td>0</td>\n",
       "      <td>0</td>\n",
       "      <td>POLYGON ((-85.06484 34.98677, -85.08190 34.986...</td>\n",
       "    </tr>\n",
       "    <tr>\n",
       "      <th>3</th>\n",
       "      <td>31820</td>\n",
       "      <td>West</td>\n",
       "      <td>Columbus, GA-AL</td>\n",
       "      <td>Muscogee County</td>\n",
       "      <td>0</td>\n",
       "      <td>0</td>\n",
       "      <td>112</td>\n",
       "      <td>0</td>\n",
       "      <td>0</td>\n",
       "      <td>0</td>\n",
       "      <td>27</td>\n",
       "      <td>0</td>\n",
       "      <td>46</td>\n",
       "      <td>0</td>\n",
       "      <td>0</td>\n",
       "      <td>75</td>\n",
       "      <td>0</td>\n",
       "      <td>0</td>\n",
       "      <td>MULTIPOLYGON (((-84.90265 32.58319, -84.90278 ...</td>\n",
       "    </tr>\n",
       "    <tr>\n",
       "      <th>4</th>\n",
       "      <td>31821</td>\n",
       "      <td>West</td>\n",
       "      <td></td>\n",
       "      <td>Stewart County</td>\n",
       "      <td>0</td>\n",
       "      <td>0</td>\n",
       "      <td>0</td>\n",
       "      <td>0</td>\n",
       "      <td>0</td>\n",
       "      <td>0</td>\n",
       "      <td>0</td>\n",
       "      <td>0</td>\n",
       "      <td>0</td>\n",
       "      <td>0</td>\n",
       "      <td>0</td>\n",
       "      <td>0</td>\n",
       "      <td>0</td>\n",
       "      <td>0</td>\n",
       "      <td>POLYGON ((-85.05875 32.13602, -85.06114 32.134...</td>\n",
       "    </tr>\n",
       "  </tbody>\n",
       "</table>\n",
       "</div>"
      ],
      "text/plain": [
       "    ZCTA   CDRegion                 MSA           County  Employees2007  \\\n",
       "0  37350  Northwest  Chattanooga, TN-GA    Walker County              0   \n",
       "1  37362  Northwest          Dalton, GA    Murray County              0   \n",
       "2  37363  Northeast  Chattanooga, TN-GA   Catoosa County              0   \n",
       "3  31820       West     Columbus, GA-AL  Muscogee County              0   \n",
       "4  31821       West                       Stewart County              0   \n",
       "\n",
       "   Employees2008  Employees2009  Employees2010  Employees2011  Employees2012  \\\n",
       "0              0              0              0              0              0   \n",
       "1              0              0              0              0              0   \n",
       "2              0              0              0              0              0   \n",
       "3              0            112              0              0              0   \n",
       "4              0              0              0              0              0   \n",
       "\n",
       "   Employees2013  Employees2014  Employees2015  Employees2016  Employees2017  \\\n",
       "0              0              0              0              0              0   \n",
       "1              0              0              0              0              0   \n",
       "2              0              0              0              0              0   \n",
       "3             27              0             46              0              0   \n",
       "4              0              0              0              0              0   \n",
       "\n",
       "   Employees2018  Employees2019  Employees2020  \\\n",
       "0              0              0              0   \n",
       "1              0              0              0   \n",
       "2              0              0              0   \n",
       "3             75              0              0   \n",
       "4              0              0              0   \n",
       "\n",
       "                                            geometry  \n",
       "0  POLYGON ((-85.34438 34.98373, -85.35288 34.983...  \n",
       "1  POLYGON ((-84.73143 34.98809, -84.74509 34.988...  \n",
       "2  POLYGON ((-85.06484 34.98677, -85.08190 34.986...  \n",
       "3  MULTIPOLYGON (((-84.90265 32.58319, -84.90278 ...  \n",
       "4  POLYGON ((-85.05875 32.13602, -85.06114 32.134...  "
      ]
     },
     "execution_count": 59,
     "metadata": {},
     "output_type": "execute_result"
    }
   ],
   "source": [
    "gaZips.head()"
   ]
  },
  {
   "cell_type": "code",
   "execution_count": 58,
   "metadata": {},
   "outputs": [],
   "source": [
    "gaZips.to_file('application/data/gaZips.geojson', driver='GeoJSON')"
   ]
  },
  {
   "cell_type": "code",
   "execution_count": 68,
   "metadata": {},
   "outputs": [],
   "source": [
    "dataJson['date'] = dataJson.Month+' '+dataJson.Year"
   ]
  },
  {
   "cell_type": "code",
   "execution_count": 71,
   "metadata": {},
   "outputs": [],
   "source": [
    "dataJson = dataJson[['Date','Month','Year','date',\n",
    "                    'Company','City','ZIP','County','FIPS','MSA','CBSA','ZCTA','CDRegion',\n",
    "                    'Companies','Employees']]"
   ]
  },
  {
   "cell_type": "code",
   "execution_count": 72,
   "metadata": {},
   "outputs": [
    {
     "data": {
      "text/html": [
       "<div>\n",
       "<style scoped>\n",
       "    .dataframe tbody tr th:only-of-type {\n",
       "        vertical-align: middle;\n",
       "    }\n",
       "\n",
       "    .dataframe tbody tr th {\n",
       "        vertical-align: top;\n",
       "    }\n",
       "\n",
       "    .dataframe thead th {\n",
       "        text-align: right;\n",
       "    }\n",
       "</style>\n",
       "<table border=\"1\" class=\"dataframe\">\n",
       "  <thead>\n",
       "    <tr style=\"text-align: right;\">\n",
       "      <th></th>\n",
       "      <th>Date</th>\n",
       "      <th>Month</th>\n",
       "      <th>Year</th>\n",
       "      <th>date</th>\n",
       "      <th>Company</th>\n",
       "      <th>City</th>\n",
       "      <th>ZIP</th>\n",
       "      <th>County</th>\n",
       "      <th>FIPS</th>\n",
       "      <th>MSA</th>\n",
       "      <th>CBSA</th>\n",
       "      <th>ZCTA</th>\n",
       "      <th>CDRegion</th>\n",
       "      <th>Companies</th>\n",
       "      <th>Employees</th>\n",
       "    </tr>\n",
       "  </thead>\n",
       "  <tbody>\n",
       "    <tr>\n",
       "      <th>0</th>\n",
       "      <td>01-04-2007</td>\n",
       "      <td>Jan</td>\n",
       "      <td>2007</td>\n",
       "      <td>Jan 2007</td>\n",
       "      <td>Polymer Group, Inc</td>\n",
       "      <td>Gainesville</td>\n",
       "      <td>30504</td>\n",
       "      <td>Hall County</td>\n",
       "      <td>13139</td>\n",
       "      <td>Gainesville, GA</td>\n",
       "      <td>23580</td>\n",
       "      <td>30504</td>\n",
       "      <td>Northeast</td>\n",
       "      <td>1</td>\n",
       "      <td>58</td>\n",
       "    </tr>\n",
       "    <tr>\n",
       "      <th>1</th>\n",
       "      <td>01-08-2007</td>\n",
       "      <td>Jan</td>\n",
       "      <td>2007</td>\n",
       "      <td>Jan 2007</td>\n",
       "      <td>Enterprise Fund Distributors</td>\n",
       "      <td>Atlanta</td>\n",
       "      <td>30326</td>\n",
       "      <td>Fulton County</td>\n",
       "      <td>13121</td>\n",
       "      <td>Atlanta-Sandy Springs-Alpharetta, GA</td>\n",
       "      <td>12060</td>\n",
       "      <td>30326</td>\n",
       "      <td>Metro West</td>\n",
       "      <td>1</td>\n",
       "      <td>89</td>\n",
       "    </tr>\n",
       "    <tr>\n",
       "      <th>2</th>\n",
       "      <td>01-08-2007</td>\n",
       "      <td>Jan</td>\n",
       "      <td>2007</td>\n",
       "      <td>Jan 2007</td>\n",
       "      <td>Marriott Atlanta Global Reservations Sales &amp; C...</td>\n",
       "      <td>Sandy Springs</td>\n",
       "      <td>30328</td>\n",
       "      <td>Fulton County</td>\n",
       "      <td>13121</td>\n",
       "      <td>Atlanta-Sandy Springs-Alpharetta, GA</td>\n",
       "      <td>12060</td>\n",
       "      <td>30328</td>\n",
       "      <td>Metro North</td>\n",
       "      <td>1</td>\n",
       "      <td>153</td>\n",
       "    </tr>\n",
       "    <tr>\n",
       "      <th>3</th>\n",
       "      <td>01-08-2007</td>\n",
       "      <td>Jan</td>\n",
       "      <td>2007</td>\n",
       "      <td>Jan 2007</td>\n",
       "      <td>Glen Raven Custom Fabrics,llc</td>\n",
       "      <td>Elberton</td>\n",
       "      <td>30635</td>\n",
       "      <td>Elbert County</td>\n",
       "      <td>13105</td>\n",
       "      <td>NaN</td>\n",
       "      <td>NaN</td>\n",
       "      <td>30635</td>\n",
       "      <td>Northeast</td>\n",
       "      <td>1</td>\n",
       "      <td>54</td>\n",
       "    </tr>\n",
       "    <tr>\n",
       "      <th>4</th>\n",
       "      <td>01-08-2007</td>\n",
       "      <td>Jan</td>\n",
       "      <td>2007</td>\n",
       "      <td>Jan 2007</td>\n",
       "      <td>Schwan's Bakery Inc.</td>\n",
       "      <td>Suwanee</td>\n",
       "      <td>30024</td>\n",
       "      <td>Gwinnett County</td>\n",
       "      <td>13135</td>\n",
       "      <td>Atlanta-Sandy Springs-Alpharetta, GA</td>\n",
       "      <td>12060</td>\n",
       "      <td>30024</td>\n",
       "      <td>Metro North</td>\n",
       "      <td>1</td>\n",
       "      <td>200</td>\n",
       "    </tr>\n",
       "  </tbody>\n",
       "</table>\n",
       "</div>"
      ],
      "text/plain": [
       "         Date Month  Year      date  \\\n",
       "0  01-04-2007   Jan  2007  Jan 2007   \n",
       "1  01-08-2007   Jan  2007  Jan 2007   \n",
       "2  01-08-2007   Jan  2007  Jan 2007   \n",
       "3  01-08-2007   Jan  2007  Jan 2007   \n",
       "4  01-08-2007   Jan  2007  Jan 2007   \n",
       "\n",
       "                                             Company           City    ZIP  \\\n",
       "0                                 Polymer Group, Inc    Gainesville  30504   \n",
       "1                       Enterprise Fund Distributors        Atlanta  30326   \n",
       "2  Marriott Atlanta Global Reservations Sales & C...  Sandy Springs  30328   \n",
       "3                      Glen Raven Custom Fabrics,llc       Elberton  30635   \n",
       "4                               Schwan's Bakery Inc.        Suwanee  30024   \n",
       "\n",
       "            County   FIPS                                   MSA   CBSA   ZCTA  \\\n",
       "0      Hall County  13139                       Gainesville, GA  23580  30504   \n",
       "1    Fulton County  13121  Atlanta-Sandy Springs-Alpharetta, GA  12060  30326   \n",
       "2    Fulton County  13121  Atlanta-Sandy Springs-Alpharetta, GA  12060  30328   \n",
       "3    Elbert County  13105                                   NaN    NaN  30635   \n",
       "4  Gwinnett County  13135  Atlanta-Sandy Springs-Alpharetta, GA  12060  30024   \n",
       "\n",
       "      CDRegion  Companies  Employees  \n",
       "0    Northeast          1         58  \n",
       "1   Metro West          1         89  \n",
       "2  Metro North          1        153  \n",
       "3    Northeast          1         54  \n",
       "4  Metro North          1        200  "
      ]
     },
     "execution_count": 72,
     "metadata": {},
     "output_type": "execute_result"
    }
   ],
   "source": [
    "dataJson.head()"
   ]
  },
  {
   "cell_type": "code",
   "execution_count": 73,
   "metadata": {},
   "outputs": [],
   "source": [
    "dataJson.to_json('application/data/warnLogs.json', orient='records')"
   ]
  },
  {
   "cell_type": "code",
   "execution_count": null,
   "metadata": {},
   "outputs": [],
   "source": []
  },
  {
   "cell_type": "code",
   "execution_count": null,
   "metadata": {},
   "outputs": [],
   "source": []
  },
  {
   "cell_type": "code",
   "execution_count": 49,
   "metadata": {},
   "outputs": [],
   "source": [
    "warnCities = pd.read_csv('data/warnCitiesFinal.csv')\n",
    "warnCities = warnCities[['City','CDRegion','MSA','County','Latitude','Longitude']]"
   ]
  },
  {
   "cell_type": "code",
   "execution_count": 50,
   "metadata": {},
   "outputs": [
    {
     "data": {
      "text/html": [
       "<div>\n",
       "<style scoped>\n",
       "    .dataframe tbody tr th:only-of-type {\n",
       "        vertical-align: middle;\n",
       "    }\n",
       "\n",
       "    .dataframe tbody tr th {\n",
       "        vertical-align: top;\n",
       "    }\n",
       "\n",
       "    .dataframe thead th {\n",
       "        text-align: right;\n",
       "    }\n",
       "</style>\n",
       "<table border=\"1\" class=\"dataframe\">\n",
       "  <thead>\n",
       "    <tr style=\"text-align: right;\">\n",
       "      <th></th>\n",
       "      <th>City</th>\n",
       "      <th>CDRegion</th>\n",
       "      <th>MSA</th>\n",
       "      <th>County</th>\n",
       "      <th>Latitude</th>\n",
       "      <th>Longitude</th>\n",
       "    </tr>\n",
       "  </thead>\n",
       "  <tbody>\n",
       "    <tr>\n",
       "      <th>0</th>\n",
       "      <td>Acworth</td>\n",
       "      <td>Metro West</td>\n",
       "      <td>Atlanta-Sandy Springs-Alpharetta, GA</td>\n",
       "      <td>Cobb County</td>\n",
       "      <td>34.065933</td>\n",
       "      <td>-84.676880</td>\n",
       "    </tr>\n",
       "    <tr>\n",
       "      <th>1</th>\n",
       "      <td>Adairsville</td>\n",
       "      <td>Northwest</td>\n",
       "      <td>Atlanta-Sandy Springs-Alpharetta, GA</td>\n",
       "      <td>Bartow County</td>\n",
       "      <td>34.368702</td>\n",
       "      <td>-84.934109</td>\n",
       "    </tr>\n",
       "    <tr>\n",
       "      <th>2</th>\n",
       "      <td>Adel</td>\n",
       "      <td>South</td>\n",
       "      <td>0</td>\n",
       "      <td>Cook County</td>\n",
       "      <td>31.137136</td>\n",
       "      <td>-83.423494</td>\n",
       "    </tr>\n",
       "    <tr>\n",
       "      <th>3</th>\n",
       "      <td>Ailey</td>\n",
       "      <td>Central</td>\n",
       "      <td>Vidalia, GA</td>\n",
       "      <td>Montgomery County</td>\n",
       "      <td>32.187404</td>\n",
       "      <td>-82.565689</td>\n",
       "    </tr>\n",
       "    <tr>\n",
       "      <th>4</th>\n",
       "      <td>Albany</td>\n",
       "      <td>South</td>\n",
       "      <td>Albany, GA</td>\n",
       "      <td>Dougherty County</td>\n",
       "      <td>31.578206</td>\n",
       "      <td>-84.155681</td>\n",
       "    </tr>\n",
       "  </tbody>\n",
       "</table>\n",
       "</div>"
      ],
      "text/plain": [
       "          City    CDRegion                                   MSA  \\\n",
       "0      Acworth  Metro West  Atlanta-Sandy Springs-Alpharetta, GA   \n",
       "1  Adairsville   Northwest  Atlanta-Sandy Springs-Alpharetta, GA   \n",
       "2         Adel       South                                     0   \n",
       "3        Ailey     Central                           Vidalia, GA   \n",
       "4       Albany       South                            Albany, GA   \n",
       "\n",
       "              County   Latitude  Longitude  \n",
       "0        Cobb County  34.065933 -84.676880  \n",
       "1      Bartow County  34.368702 -84.934109  \n",
       "2        Cook County  31.137136 -83.423494  \n",
       "3  Montgomery County  32.187404 -82.565689  \n",
       "4   Dougherty County  31.578206 -84.155681  "
      ]
     },
     "execution_count": 50,
     "metadata": {},
     "output_type": "execute_result"
    }
   ],
   "source": [
    "warnCities.head()"
   ]
  },
  {
   "cell_type": "code",
   "execution_count": 51,
   "metadata": {},
   "outputs": [],
   "source": [
    "cityRoll = data.groupby(['City','Year']).agg({'Companies':sum}).reset_index()\n",
    "cityRoll = cityRoll.pivot_table('Companies', ['City'], 'Year')\n",
    "cityRoll.reset_index( drop=False, inplace=True )\n",
    "\n",
    "columns = ['City','Companies2007','Companies2008','Companies2009','Companies2010','Companies2011',\n",
    "           'Companies2012','Companies2013','Companies2014','Companies2015','Companies2016','Companies2017',\n",
    "           'Companies2018','Companies2019','Companies2020']\n",
    "cityRoll.columns = columns\n",
    "numCols = ['Companies2007','Companies2008','Companies2009','Companies2010','Companies2011',\n",
    "           'Companies2012','Companies2013','Companies2014','Companies2015','Companies2016','Companies2017',\n",
    "           'Companies2018','Companies2019','Companies2020']\n",
    "cityRoll.fillna(0, inplace=True)\n",
    "\n",
    "for col in numCols:\n",
    "    cityRoll[col] = cityRoll[col].astype(int)"
   ]
  },
  {
   "cell_type": "code",
   "execution_count": 52,
   "metadata": {},
   "outputs": [],
   "source": [
    "warnCities = pd.merge(warnCities, cityRoll, how='left', on='City')"
   ]
  },
  {
   "cell_type": "code",
   "execution_count": 54,
   "metadata": {},
   "outputs": [],
   "source": [
    "warnCities.fillna(0, inplace=True)\n",
    "for col in numCols:\n",
    "    warnCities[col] = warnCities[col].astype(int)"
   ]
  },
  {
   "cell_type": "code",
   "execution_count": 55,
   "metadata": {},
   "outputs": [],
   "source": [
    "warnCities = warnCities[['City','CDRegion','MSA','County',\n",
    "                         'Companies2007','Companies2008','Companies2009','Companies2010','Companies2011',\n",
    "                         'Companies2012','Companies2013','Companies2014','Companies2015','Companies2016',\n",
    "                         'Companies2017','Companies2018','Companies2019','Companies2020',\n",
    "                         'Latitude','Longitude']]"
   ]
  },
  {
   "cell_type": "code",
   "execution_count": 66,
   "metadata": {},
   "outputs": [],
   "source": [
    "warnCities.to_csv('data/warnCitiesFinal.csv', index=False)"
   ]
  },
  {
   "cell_type": "code",
   "execution_count": 57,
   "metadata": {},
   "outputs": [],
   "source": [
    "warnCityTest = warnCities.loc[warnCities['CDRegion'] == 'Metro South']"
   ]
  },
  {
   "cell_type": "code",
   "execution_count": null,
   "metadata": {},
   "outputs": [],
   "source": []
  }
 ],
 "metadata": {
  "kernelspec": {
   "display_name": "Python 3",
   "language": "python",
   "name": "python3"
  },
  "language_info": {
   "codemirror_mode": {
    "name": "ipython",
    "version": 3
   },
   "file_extension": ".py",
   "mimetype": "text/x-python",
   "name": "python",
   "nbconvert_exporter": "python",
   "pygments_lexer": "ipython3",
   "version": "3.7.6"
  }
 },
 "nbformat": 4,
 "nbformat_minor": 4
}
