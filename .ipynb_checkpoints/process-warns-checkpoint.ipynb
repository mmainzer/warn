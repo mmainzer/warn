{
 "cells": [
  {
   "cell_type": "code",
   "execution_count": 1,
   "metadata": {},
   "outputs": [],
   "source": [
    "import pandas as pd\n",
    "import numpy as np\n",
    "import geopandas as gpd\n",
    "import fiona"
   ]
  },
  {
   "cell_type": "code",
   "execution_count": 2,
   "metadata": {},
   "outputs": [],
   "source": [
    "# // get geography files\n",
    "warnCounties = pd.read_excel('data/warnLogs_200720.xlsx',\n",
    "                             sheet_name=\"warnCounties\",\n",
    "                             converters={'FIPS':str})\n",
    "\n",
    "warnCities= pd.read_excel('data/warnLogs_200720.xlsx',\n",
    "                          sheet_name=\"warnCities\",\n",
    "                          usecols=\"A,B,E,F\")\n",
    "\n",
    "msa = pd.read_excel('../data/geographies/cbsa.xlsx',\n",
    "                    sheet_name=\"cbsa\",\n",
    "                    usecols=\"A,D,M\",\n",
    "                    converters={'FIPS_COUNTY':str,\n",
    "                                'CBSA Code':str})\n",
    "\n",
    "msa.rename(columns={'CBSA Code':'CBSA','CBSA Title':'MSA','FIPS_COUNTY':'FIPS'}, inplace=True)\n",
    "\n",
    "zipWalk = pd.read_excel('../data/spatial/zips/Zip_to_zcta_crosswalk_2020.xlsx',\n",
    "                        sheet_name='ziptozcta2019',\n",
    "                        usecols='A,E',\n",
    "                        converters={'ZIP_CODE':str,\n",
    "                                    'ZCTA':str})"
   ]
  },
  {
   "cell_type": "code",
   "execution_count": 3,
   "metadata": {},
   "outputs": [],
   "source": [
    "data = pd.read_excel('data/warnLogs_200720.xlsx',\n",
    "                     sheet_name=\"warnLogs\",\n",
    "                     usecols=\"A:F,H\",\n",
    "                     converters={'ZIP':str})\n",
    "\n",
    "data['Companies'] = 1\n",
    "\n",
    "# trim all columns\n",
    "data['Company name'] = data['Company name'].str.strip()\n",
    "data['City'] = data['City'].str.strip()\n",
    "data['ZIP'] = data['ZIP'].str.strip()\n",
    "data['County'] = data['County'].str.strip()\n",
    "\n",
    "data.rename(columns={'County':'warnCounty',\n",
    "                     'City':'warnCity',\n",
    "                     'Company name':'Company',\n",
    "                     'Est. Impact':'Employees'}, inplace=True)"
   ]
  },
  {
   "cell_type": "code",
   "execution_count": 4,
   "metadata": {},
   "outputs": [],
   "source": [
    "data = pd.merge(data, warnCounties, how='left', on='warnCounty')\n",
    "data = pd.merge(data, warnCities, how='left', on='warnCity')\n",
    "data = pd.merge(data, msa, how='left', on='FIPS')"
   ]
  },
  {
   "cell_type": "code",
   "execution_count": 5,
   "metadata": {},
   "outputs": [],
   "source": [
    "data = pd.merge(data, zipWalk, how='left', left_on='ZIP', right_on='ZIP_CODE')"
   ]
  },
  {
   "cell_type": "code",
   "execution_count": 6,
   "metadata": {},
   "outputs": [],
   "source": [
    "data = data[['Date','Company','Companies','Employees','City',\n",
    "             'ZIP','County','FIPS','MSA','CBSA','ZCTA']]"
   ]
  },
  {
   "cell_type": "code",
   "execution_count": 7,
   "metadata": {},
   "outputs": [],
   "source": [
    "data.sort_values('Date', inplace=True)"
   ]
  },
  {
   "cell_type": "code",
   "execution_count": 8,
   "metadata": {},
   "outputs": [],
   "source": [
    "data.reset_index(drop=True, inplace=True)"
   ]
  },
  {
   "cell_type": "code",
   "execution_count": 9,
   "metadata": {},
   "outputs": [],
   "source": [
    "data['Month'] = data['Date'].dt.strftime('%b')\n",
    "data['Year'] = data['Date'].dt.strftime('%Y')"
   ]
  },
  {
   "cell_type": "code",
   "execution_count": 11,
   "metadata": {},
   "outputs": [],
   "source": [
    "data['Date'] = pd.to_datetime(data['Date'], format='%Y-%m-%d').dt.strftime('%m-%d-%Y')"
   ]
  },
  {
   "cell_type": "code",
   "execution_count": 55,
   "metadata": {},
   "outputs": [],
   "source": [
    "counties = gpd.read_file('../data/spatial/ga-custom/ga-counties.geojson')\n",
    "counties = counties[['GEOID','CDRegion']]"
   ]
  },
  {
   "cell_type": "code",
   "execution_count": 60,
   "metadata": {},
   "outputs": [],
   "source": [
    "data = pd.merge(data,counties, how='left', left_on='FIPS', right_on='GEOID')"
   ]
  },
  {
   "cell_type": "code",
   "execution_count": 65,
   "metadata": {},
   "outputs": [],
   "source": [
    "data = data[['Date','Month','Year',\n",
    "             'Company','City','ZIP','County','FIPS','MSA','CBSA','ZCTA','CDRegion',\n",
    "             'Companies','Employees']]"
   ]
  },
  {
   "cell_type": "code",
   "execution_count": 66,
   "metadata": {},
   "outputs": [
    {
     "data": {
      "text/html": [
       "<div>\n",
       "<style scoped>\n",
       "    .dataframe tbody tr th:only-of-type {\n",
       "        vertical-align: middle;\n",
       "    }\n",
       "\n",
       "    .dataframe tbody tr th {\n",
       "        vertical-align: top;\n",
       "    }\n",
       "\n",
       "    .dataframe thead th {\n",
       "        text-align: right;\n",
       "    }\n",
       "</style>\n",
       "<table border=\"1\" class=\"dataframe\">\n",
       "  <thead>\n",
       "    <tr style=\"text-align: right;\">\n",
       "      <th></th>\n",
       "      <th>Date</th>\n",
       "      <th>Month</th>\n",
       "      <th>Year</th>\n",
       "      <th>Company</th>\n",
       "      <th>City</th>\n",
       "      <th>ZIP</th>\n",
       "      <th>County</th>\n",
       "      <th>FIPS</th>\n",
       "      <th>MSA</th>\n",
       "      <th>CBSA</th>\n",
       "      <th>ZCTA</th>\n",
       "      <th>CDRegion</th>\n",
       "      <th>Companies</th>\n",
       "      <th>Employees</th>\n",
       "    </tr>\n",
       "  </thead>\n",
       "  <tbody>\n",
       "    <tr>\n",
       "      <th>0</th>\n",
       "      <td>01-04-2007</td>\n",
       "      <td>Jan</td>\n",
       "      <td>2007</td>\n",
       "      <td>Polymer Group, Inc</td>\n",
       "      <td>Gainesville</td>\n",
       "      <td>30504</td>\n",
       "      <td>Hall County</td>\n",
       "      <td>13139</td>\n",
       "      <td>Gainesville, GA</td>\n",
       "      <td>23580</td>\n",
       "      <td>30504</td>\n",
       "      <td>Northeast</td>\n",
       "      <td>1</td>\n",
       "      <td>58</td>\n",
       "    </tr>\n",
       "    <tr>\n",
       "      <th>1</th>\n",
       "      <td>01-08-2007</td>\n",
       "      <td>Jan</td>\n",
       "      <td>2007</td>\n",
       "      <td>Enterprise Fund Distributors</td>\n",
       "      <td>Atlanta</td>\n",
       "      <td>30326</td>\n",
       "      <td>Fulton County</td>\n",
       "      <td>13121</td>\n",
       "      <td>Atlanta-Sandy Springs-Alpharetta, GA</td>\n",
       "      <td>12060</td>\n",
       "      <td>30326</td>\n",
       "      <td>Metro West</td>\n",
       "      <td>1</td>\n",
       "      <td>89</td>\n",
       "    </tr>\n",
       "    <tr>\n",
       "      <th>2</th>\n",
       "      <td>01-08-2007</td>\n",
       "      <td>Jan</td>\n",
       "      <td>2007</td>\n",
       "      <td>Marriott Atlanta Global Reservations Sales &amp; C...</td>\n",
       "      <td>Sandy Springs</td>\n",
       "      <td>30328</td>\n",
       "      <td>Fulton County</td>\n",
       "      <td>13121</td>\n",
       "      <td>Atlanta-Sandy Springs-Alpharetta, GA</td>\n",
       "      <td>12060</td>\n",
       "      <td>30328</td>\n",
       "      <td>Metro West</td>\n",
       "      <td>1</td>\n",
       "      <td>153</td>\n",
       "    </tr>\n",
       "    <tr>\n",
       "      <th>3</th>\n",
       "      <td>01-08-2007</td>\n",
       "      <td>Jan</td>\n",
       "      <td>2007</td>\n",
       "      <td>Glen Raven Custom Fabrics,llc</td>\n",
       "      <td>Elberton</td>\n",
       "      <td>30635</td>\n",
       "      <td>Elbert County</td>\n",
       "      <td>13105</td>\n",
       "      <td>NaN</td>\n",
       "      <td>NaN</td>\n",
       "      <td>30635</td>\n",
       "      <td>Northeast</td>\n",
       "      <td>1</td>\n",
       "      <td>54</td>\n",
       "    </tr>\n",
       "    <tr>\n",
       "      <th>4</th>\n",
       "      <td>01-08-2007</td>\n",
       "      <td>Jan</td>\n",
       "      <td>2007</td>\n",
       "      <td>Schwan's Bakery Inc.</td>\n",
       "      <td>Suwanee</td>\n",
       "      <td>30024</td>\n",
       "      <td>Gwinnett County</td>\n",
       "      <td>13135</td>\n",
       "      <td>Atlanta-Sandy Springs-Alpharetta, GA</td>\n",
       "      <td>12060</td>\n",
       "      <td>30024</td>\n",
       "      <td>Metro North</td>\n",
       "      <td>1</td>\n",
       "      <td>200</td>\n",
       "    </tr>\n",
       "  </tbody>\n",
       "</table>\n",
       "</div>"
      ],
      "text/plain": [
       "         Date Month  Year                                            Company  \\\n",
       "0  01-04-2007   Jan  2007                                 Polymer Group, Inc   \n",
       "1  01-08-2007   Jan  2007                       Enterprise Fund Distributors   \n",
       "2  01-08-2007   Jan  2007  Marriott Atlanta Global Reservations Sales & C...   \n",
       "3  01-08-2007   Jan  2007                      Glen Raven Custom Fabrics,llc   \n",
       "4  01-08-2007   Jan  2007                               Schwan's Bakery Inc.   \n",
       "\n",
       "            City    ZIP           County   FIPS  \\\n",
       "0    Gainesville  30504      Hall County  13139   \n",
       "1        Atlanta  30326    Fulton County  13121   \n",
       "2  Sandy Springs  30328    Fulton County  13121   \n",
       "3       Elberton  30635    Elbert County  13105   \n",
       "4        Suwanee  30024  Gwinnett County  13135   \n",
       "\n",
       "                                    MSA   CBSA   ZCTA     CDRegion  Companies  \\\n",
       "0                       Gainesville, GA  23580  30504    Northeast          1   \n",
       "1  Atlanta-Sandy Springs-Alpharetta, GA  12060  30326   Metro West          1   \n",
       "2  Atlanta-Sandy Springs-Alpharetta, GA  12060  30328   Metro West          1   \n",
       "3                                   NaN    NaN  30635    Northeast          1   \n",
       "4  Atlanta-Sandy Springs-Alpharetta, GA  12060  30024  Metro North          1   \n",
       "\n",
       "   Employees  \n",
       "0         58  \n",
       "1         89  \n",
       "2        153  \n",
       "3         54  \n",
       "4        200  "
      ]
     },
     "execution_count": 66,
     "metadata": {},
     "output_type": "execute_result"
    }
   ],
   "source": [
    "data.head()"
   ]
  },
  {
   "cell_type": "code",
   "execution_count": 67,
   "metadata": {},
   "outputs": [],
   "source": [
    "# write files\n",
    "data.to_csv('application/data/warnLogs.csv', index=False)\n",
    "# zctaRoll.to_csv('application/data/zctaRoll.csv', index=False)\n",
    "# cityRoll.to_csv('application/data/cityRoll.csv', index=False)"
   ]
  },
  {
   "cell_type": "code",
   "execution_count": 68,
   "metadata": {},
   "outputs": [],
   "source": [
    "dataJson = data.copy()"
   ]
  },
  {
   "cell_type": "code",
   "execution_count": 16,
   "metadata": {},
   "outputs": [],
   "source": [
    "zctaRoll = data.groupby(['ZCTA','Year']).agg({'Employees':sum}).reset_index()\n",
    "zctaRoll = zctaRoll.pivot_table('Employees', ['ZCTA'], 'Year')\n",
    "zctaRoll.reset_index( drop=False, inplace=True )"
   ]
  },
  {
   "cell_type": "code",
   "execution_count": 17,
   "metadata": {},
   "outputs": [],
   "source": [
    "columns = ['ZCTA','Employees2007','Employees2008','Employees2009','Employees2010','Employees2011',\n",
    "           'Employees2012','Employees2013','Employees2014','Employees2015','Employees2016','Employees2017',\n",
    "           'Employees2018','Employees2019','Employees2020']\n",
    "zctaRoll.columns = columns\n",
    "numCols = ['Employees2007','Employees2008','Employees2009','Employees2010','Employees2011',\n",
    "           'Employees2012','Employees2013','Employees2014','Employees2015','Employees2016','Employees2017',\n",
    "           'Employees2018','Employees2019','Employees2020']\n",
    "zctaRoll.fillna(0, inplace=True)"
   ]
  },
  {
   "cell_type": "code",
   "execution_count": 18,
   "metadata": {},
   "outputs": [],
   "source": [
    "for col in numCols:\n",
    "    zctaRoll[col] = zctaRoll[col].astype(int)"
   ]
  },
  {
   "cell_type": "code",
   "execution_count": 20,
   "metadata": {},
   "outputs": [],
   "source": [
    "gaZips = gpd.read_file('../data/spatial/ga-custom/gaZips.geojson')"
   ]
  },
  {
   "cell_type": "code",
   "execution_count": 21,
   "metadata": {},
   "outputs": [],
   "source": [
    "gaZips['ZCTA'] = gaZips['ZCTA'].astype(str)\n",
    "zctaRoll['ZCTA'] = zctaRoll['ZCTA'].astype(str)"
   ]
  },
  {
   "cell_type": "code",
   "execution_count": 22,
   "metadata": {},
   "outputs": [],
   "source": [
    "gaZips = pd.merge(gaZips, zctaRoll, how='left', on='ZCTA')"
   ]
  },
  {
   "cell_type": "code",
   "execution_count": 23,
   "metadata": {},
   "outputs": [],
   "source": [
    "gaZips.fillna(0, inplace=True)\n",
    "for col in numCols:\n",
    "    gaZips[col] = gaZips[col].astype(int)"
   ]
  },
  {
   "cell_type": "code",
   "execution_count": 24,
   "metadata": {},
   "outputs": [],
   "source": [
    "gaZips = gaZips[['ZCTA','CDRegion','MSA','County',\n",
    "                 'Employees2007','Employees2008','Employees2009','Employees2010','Employees2011',\n",
    "                 'Employees2012','Employees2013','Employees2014','Employees2015','Employees2016',\n",
    "                 'Employees2017','Employees2018','Employees2019','Employees2020','geometry']]"
   ]
  },
  {
   "cell_type": "code",
   "execution_count": 25,
   "metadata": {},
   "outputs": [],
   "source": [
    "gaZips.to_file('application/data/gaZips.geojson', driver='GeoJSON')"
   ]
  },
  {
   "cell_type": "code",
   "execution_count": 69,
   "metadata": {},
   "outputs": [],
   "source": [
    "dataJson.to_json('application/data/warnLogs.json', orient='records')"
   ]
  },
  {
   "cell_type": "code",
   "execution_count": null,
   "metadata": {},
   "outputs": [],
   "source": []
  },
  {
   "cell_type": "code",
   "execution_count": null,
   "metadata": {},
   "outputs": [],
   "source": []
  },
  {
   "cell_type": "code",
   "execution_count": 34,
   "metadata": {},
   "outputs": [],
   "source": [
    "warnCities = pd.read_csv('data/warnCitiesFinal.csv')"
   ]
  },
  {
   "cell_type": "code",
   "execution_count": 32,
   "metadata": {},
   "outputs": [],
   "source": [
    "cityRoll = data.groupby(['City','Year']).agg({'Companies':sum}).reset_index()\n",
    "cityRoll = cityRoll.pivot_table('Companies', ['City'], 'Year')\n",
    "cityRoll.reset_index( drop=False, inplace=True )\n",
    "\n",
    "columns = ['City','Companies2007','Companies2008','Companies2009','Companies2010','Companies2011',\n",
    "           'Companies2012','Companies2013','Companies2014','Companies2015','Companies2016','Companies2017',\n",
    "           'Companies2018','Companies2019','Companies2020']\n",
    "cityRoll.columns = columns\n",
    "numCols = ['Companies2007','Companies2008','Companies2009','Companies2010','Companies2011',\n",
    "           'Companies2012','Companies2013','Companies2014','Companies2015','Companies2016','Companies2017',\n",
    "           'Companies2018','Companies2019','Companies2020']\n",
    "cityRoll.fillna(0, inplace=True)\n",
    "\n",
    "for col in numCols:\n",
    "    zctaRoll[col] = zctaRoll[col].astype(int)"
   ]
  },
  {
   "cell_type": "code",
   "execution_count": 36,
   "metadata": {},
   "outputs": [],
   "source": [
    "warnCities = pd.merge(warnCities, cityRoll, how='left', on='City')"
   ]
  },
  {
   "cell_type": "code",
   "execution_count": 38,
   "metadata": {},
   "outputs": [],
   "source": [
    "warnCities.fillna(0, inplace=True)\n",
    "for col in numCols:\n",
    "    warnCities[col] = warnCities[col].astype(int)"
   ]
  },
  {
   "cell_type": "code",
   "execution_count": 40,
   "metadata": {},
   "outputs": [],
   "source": [
    "warnCities = warnCities[['City','CDRegion','MSA','County',\n",
    "                         'Employees2007','Employees2008','Employees2009','Employees2010','Employees2011',\n",
    "                         'Employees2012','Employees2013','Employees2014','Employees2015','Employees2016',\n",
    "                         'Employees2017','Employees2018','Employees2019','Employees2020','Latitude','Longitude']]"
   ]
  },
  {
   "cell_type": "code",
   "execution_count": 42,
   "metadata": {},
   "outputs": [],
   "source": [
    "warnCities.to_csv('data/warnCitiesFinal.csv', index=False)"
   ]
  },
  {
   "cell_type": "code",
   "execution_count": 43,
   "metadata": {},
   "outputs": [],
   "source": [
    "warnCityTest = warnCities.loc[warnCities['CDRegion'] == 'Metro South']"
   ]
  },
  {
   "cell_type": "code",
   "execution_count": 45,
   "metadata": {},
   "outputs": [
    {
     "data": {
      "text/plain": [
       "0.2       0.0\n",
       "0.4       6.4\n",
       "0.6      90.4\n",
       "0.8     214.2\n",
       "1.0    1472.0\n",
       "Name: Employees2020, dtype: float64"
      ]
     },
     "execution_count": 45,
     "metadata": {},
     "output_type": "execute_result"
    }
   ],
   "source": [
    "warnCityTest['Employees2020'].quantile([.2, .4, .6, .8, 1]) "
   ]
  }
 ],
 "metadata": {
  "kernelspec": {
   "display_name": "Python 3",
   "language": "python",
   "name": "python3"
  },
  "language_info": {
   "codemirror_mode": {
    "name": "ipython",
    "version": 3
   },
   "file_extension": ".py",
   "mimetype": "text/x-python",
   "name": "python",
   "nbconvert_exporter": "python",
   "pygments_lexer": "ipython3",
   "version": "3.7.6"
  }
 },
 "nbformat": 4,
 "nbformat_minor": 4
}
